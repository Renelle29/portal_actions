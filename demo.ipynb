{
 "cells": [
  {
   "cell_type": "code",
   "execution_count": 2,
   "metadata": {},
   "outputs": [],
   "source": [
    "import os\n",
    "import get_users as get_users\n",
    "import get_active_members as get_active_members\n",
    "import getpass"
   ]
  },
  {
   "cell_type": "code",
   "execution_count": 3,
   "metadata": {},
   "outputs": [],
   "source": [
    "trainer_file = './group_members/trainer.txt'\n",
    "active_file = './portal_members/active_members.txt'\n",
    "output_file = './portal_members/to_deactivate.txt'"
   ]
  },
  {
   "cell_type": "code",
   "execution_count": 4,
   "metadata": {},
   "outputs": [],
   "source": [
    "def is_trainer(username, usernames):\n",
    "    return username in usernames"
   ]
  },
  {
   "cell_type": "code",
   "execution_count": 5,
   "metadata": {},
   "outputs": [],
   "source": [
    "def get_to_deactivate(active_members, trainer_members):\n",
    "    to_deactivate = []\n",
    "    for username in active_members:\n",
    "        if not is_trainer(username, trainer_members):\n",
    "            print(username)\n",
    "            to_deactivate.append(username)\n",
    "    \n",
    "    return to_deactivate"
   ]
  },
  {
   "cell_type": "code",
   "execution_count": 6,
   "metadata": {},
   "outputs": [],
   "source": [
    "username = input(\"Enter your username: \")\n",
    "password = getpass.getpass(\"Enter your password: \")"
   ]
  },
  {
   "cell_type": "code",
   "execution_count": 7,
   "metadata": {},
   "outputs": [
    {
     "name": "stdout",
     "output_type": "stream",
     "text": [
      "-------- Start get_active -----------\n"
     ]
    },
    {
     "name": "stderr",
     "output_type": "stream",
     "text": [
      "100%|██████████| 14/14 [00:37<00:00,  2.71s/it]\n",
      "100%|██████████| 9/9 [00:48<00:00,  5.41s/it]\n"
     ]
    },
    {
     "name": "stdout",
     "output_type": "stream",
     "text": [
      "./portal_members/active_members.txt\n",
      "-------- End get_active -----------\n"
     ]
    }
   ],
   "source": [
    "get_active_members.get_active(username,password)"
   ]
  },
  {
   "cell_type": "code",
   "execution_count": 9,
   "metadata": {},
   "outputs": [
    {
     "name": "stdout",
     "output_type": "stream",
     "text": [
      "-------- Start get_members -----------\n"
     ]
    },
    {
     "name": "stderr",
     "output_type": "stream",
     "text": [
      " 50%|█████     | 1/2 [00:01<00:01,  1.86s/it]"
     ]
    },
    {
     "name": "stdout",
     "output_type": "stream",
     "text": [
      "./group_members/security.txt\n"
     ]
    },
    {
     "name": "stderr",
     "output_type": "stream",
     "text": [
      "100%|██████████| 2/2 [00:02<00:00,  1.45s/it]"
     ]
    },
    {
     "name": "stdout",
     "output_type": "stream",
     "text": [
      "./group_members/trainer.txt\n",
      "-------- End get_active -----------\n"
     ]
    },
    {
     "name": "stderr",
     "output_type": "stream",
     "text": [
      "\n"
     ]
    }
   ],
   "source": [
    "get_users.get_members()"
   ]
  },
  {
   "cell_type": "code",
   "execution_count": 10,
   "metadata": {},
   "outputs": [],
   "source": [
    "with open(trainer_file, 'r') as file:\n",
    "    trainer_members = file.read().splitlines()\n",
    "trainer_members = [member.lower() for member in trainer_members]\n",
    "\n",
    "with open(active_file, 'r') as file:\n",
    "    active_members = file.read().splitlines()\n",
    "active_members = [member.lower() for member in active_members]"
   ]
  },
  {
   "cell_type": "code",
   "execution_count": 11,
   "metadata": {},
   "outputs": [
    {
     "name": "stdout",
     "output_type": "stream",
     "text": [
      "celestialbunny\n",
      "savastano\n"
     ]
    }
   ],
   "source": [
    "to_deactivate = get_to_deactivate(active_members,trainer_members)"
   ]
  },
  {
   "cell_type": "code",
   "execution_count": 12,
   "metadata": {},
   "outputs": [
    {
     "name": "stdout",
     "output_type": "stream",
     "text": [
      "./portal_members/to_deactivate.txt\n"
     ]
    }
   ],
   "source": [
    "if os.path.exists(output_file):\n",
    "    os.remove(output_file)\n",
    "\n",
    "# Save the list of users to deactivate as a new file\n",
    "with open(output_file, 'w') as output_f:\n",
    "    for deac in to_deactivate:\n",
    "        output_f.write(deac + \"\\n\")\n",
    "print(output_file)"
   ]
  }
 ],
 "metadata": {
  "kernelspec": {
   "display_name": "base",
   "language": "python",
   "name": "python3"
  },
  "language_info": {
   "codemirror_mode": {
    "name": "ipython",
    "version": 3
   },
   "file_extension": ".py",
   "mimetype": "text/x-python",
   "name": "python",
   "nbconvert_exporter": "python",
   "pygments_lexer": "ipython3",
   "version": "3.9.7"
  }
 },
 "nbformat": 4,
 "nbformat_minor": 2
}
